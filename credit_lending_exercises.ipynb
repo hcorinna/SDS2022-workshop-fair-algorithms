{
 "cells": [
  {
   "cell_type": "markdown",
   "metadata": {},
   "source": [
    "# Getting started with Google Colab\n",
    "\n",
    "If you are using Google Colab, run the following two code cells."
   ]
  },
  {
   "cell_type": "code",
   "execution_count": null,
   "metadata": {},
   "outputs": [],
   "source": [
    "from google.colab import drive\n",
    "drive.mount(\"/content/gdrive\")"
   ]
  },
  {
   "cell_type": "code",
   "execution_count": null,
   "metadata": {},
   "outputs": [],
   "source": [
    "%cd gdrive/MyDrive/SDS2022-workshop-fair-algorithms"
   ]
  },
  {
   "cell_type": "markdown",
   "metadata": {},
   "source": [
    "# Dataset\n",
    "\n",
    "## Dataset information\n",
    "\n",
    "This dataset classifies people described by a set of attributes as good or bad credit risks.\n",
    "\n",
    "- Dataset name: Statlog (German Credit Data) Data Set\n",
    "- Download data: https://archive.ics.uci.edu/ml/machine-learning-databases/statlog/german/\n",
    "- Data Set Description: https://archive.ics.uci.edu/ml/datasets/Statlog+%28German+Credit+Data%29\n",
    "\n",
    "\n",
    "## Dataset description\n",
    "\n",
    "### Sensitive attribute (A)\n",
    "- sex: gender (0 = male; 1 = female)\n",
    "\n",
    "### Features (X)\n",
    "- status: status of the debtor's checking account with the bank (categorical)\n",
    "- duration: credit duration in months (quantitative)\n",
    "- credit_history: history of compliance with previous or concurrent credit contracts (categorical)\n",
    "- purpose: purpose for which the credit is needed (categorical)\n",
    "- credit_amount: credit amount in DM (quantitative)\n",
    "- savings: debtor's savings (categorical)\n",
    "- employment: duration of debtor's employment with current employer (ordinal; discretized quantitative)\n",
    "- investment_as_income_percentage: credit installments as a percentage of debtor's disposable income (ordinal; discretized quantitative)\n",
    "- other_debtors: Is there another debtor or a guarantor for the credit? (categorical)\n",
    "- residence_since: length of time (in years) the debtor lives in the present residence (ordinal; discretized quantitative)\n",
    "- property: the debtor's most valuable property, i.e. the highest possible code is used. Code 2 is used, if codes 3\n",
    "or 4 are not applicable and there is a car or any other relevant property that does not fall under variable\n",
    "sparkont. (ordinal)\n",
    "- age: age in years (quantitative)\n",
    "- installment_plans: installment plans from providers other than the credit-giving bank (categorical)\n",
    "- housing: type of housing the debtor lives in (categorical)\n",
    "- number_of_credits: number of credits including the current one the debtor has (or had) at this bank (ordinal, discretized\n",
    "quantitative); contrary to Fahrmeir and HamerleÃ¢â‚¬â„¢s (1984) statement, the original data values are not available.\n",
    "- skill_level: quality of debtor's job (ordinal)\n",
    "- people_liable_for: number of persons who financially depend on the debtor (i.e., are entitled to maintenance) (binary,\n",
    "discretized quantitative)\n",
    "- telephone: Is there a telephone landline registered on the debtor's name? (binary; remember that the data are\n",
    "from the 1970s)\n",
    "- foreign_worker: Is the debtor a foreign worker? (binary)\n",
    "\n",
    "### Target variable (Y)\n",
    "\n",
    "- credit (0 = Bad, 1 = Good): Has the credit contract been complied with good or bad?"
   ]
  },
  {
   "cell_type": "markdown",
   "metadata": {},
   "source": [
    "## Train classifier"
   ]
  },
  {
   "cell_type": "code",
   "execution_count": 1,
   "metadata": {},
   "outputs": [],
   "source": [
    "from train_clf import *\n",
    "import numpy as np\n",
    "import pandas as pd\n",
    "import matplotlib.pyplot as plt\n",
    "%matplotlib inline"
   ]
  },
  {
   "cell_type": "code",
   "execution_count": 2,
   "metadata": {},
   "outputs": [
    {
     "name": "stdout",
     "output_type": "stream",
     "text": [
      "The model has been trained.\n",
      "Accuracy: 0.8\n",
      "Accuracy: 0.8\n",
      "Scores and y are saved in json format to output/german_credit\n"
     ]
    }
   ],
   "source": [
    "df, scores, y = train(german_credit)"
   ]
  },
  {
   "cell_type": "code",
   "execution_count": 3,
   "metadata": {},
   "outputs": [
    {
     "data": {
      "text/html": [
       "<div>\n",
       "<style scoped>\n",
       "    .dataframe tbody tr th:only-of-type {\n",
       "        vertical-align: middle;\n",
       "    }\n",
       "\n",
       "    .dataframe tbody tr th {\n",
       "        vertical-align: top;\n",
       "    }\n",
       "\n",
       "    .dataframe thead th {\n",
       "        text-align: right;\n",
       "    }\n",
       "</style>\n",
       "<table border=\"1\" class=\"dataframe\">\n",
       "  <thead>\n",
       "    <tr style=\"text-align: right;\">\n",
       "      <th></th>\n",
       "      <th>status</th>\n",
       "      <th>month</th>\n",
       "      <th>credit_history</th>\n",
       "      <th>purpose</th>\n",
       "      <th>credit_amount</th>\n",
       "      <th>savings</th>\n",
       "      <th>employment</th>\n",
       "      <th>investment_as_income_percentage</th>\n",
       "      <th>sex</th>\n",
       "      <th>other_debtors</th>\n",
       "      <th>...</th>\n",
       "      <th>property</th>\n",
       "      <th>age</th>\n",
       "      <th>installment_plans</th>\n",
       "      <th>housing</th>\n",
       "      <th>number_of_credits</th>\n",
       "      <th>skill_level</th>\n",
       "      <th>people_liable_for</th>\n",
       "      <th>telephone</th>\n",
       "      <th>foreign_worker</th>\n",
       "      <th>credit</th>\n",
       "    </tr>\n",
       "  </thead>\n",
       "  <tbody>\n",
       "    <tr>\n",
       "      <th>0</th>\n",
       "      <td>A11</td>\n",
       "      <td>6</td>\n",
       "      <td>A34</td>\n",
       "      <td>A43</td>\n",
       "      <td>1169</td>\n",
       "      <td>A65</td>\n",
       "      <td>A75</td>\n",
       "      <td>4</td>\n",
       "      <td>0</td>\n",
       "      <td>A101</td>\n",
       "      <td>...</td>\n",
       "      <td>A121</td>\n",
       "      <td>adult</td>\n",
       "      <td>A143</td>\n",
       "      <td>A152</td>\n",
       "      <td>2</td>\n",
       "      <td>A173</td>\n",
       "      <td>1</td>\n",
       "      <td>A192</td>\n",
       "      <td>A201</td>\n",
       "      <td>1</td>\n",
       "    </tr>\n",
       "    <tr>\n",
       "      <th>1</th>\n",
       "      <td>A12</td>\n",
       "      <td>48</td>\n",
       "      <td>A32</td>\n",
       "      <td>A43</td>\n",
       "      <td>5951</td>\n",
       "      <td>A61</td>\n",
       "      <td>A73</td>\n",
       "      <td>2</td>\n",
       "      <td>1</td>\n",
       "      <td>A101</td>\n",
       "      <td>...</td>\n",
       "      <td>A121</td>\n",
       "      <td>youth</td>\n",
       "      <td>A143</td>\n",
       "      <td>A152</td>\n",
       "      <td>1</td>\n",
       "      <td>A173</td>\n",
       "      <td>1</td>\n",
       "      <td>A191</td>\n",
       "      <td>A201</td>\n",
       "      <td>0</td>\n",
       "    </tr>\n",
       "    <tr>\n",
       "      <th>2</th>\n",
       "      <td>A14</td>\n",
       "      <td>12</td>\n",
       "      <td>A34</td>\n",
       "      <td>A46</td>\n",
       "      <td>2096</td>\n",
       "      <td>A61</td>\n",
       "      <td>A74</td>\n",
       "      <td>2</td>\n",
       "      <td>0</td>\n",
       "      <td>A101</td>\n",
       "      <td>...</td>\n",
       "      <td>A121</td>\n",
       "      <td>adult</td>\n",
       "      <td>A143</td>\n",
       "      <td>A152</td>\n",
       "      <td>1</td>\n",
       "      <td>A172</td>\n",
       "      <td>2</td>\n",
       "      <td>A191</td>\n",
       "      <td>A201</td>\n",
       "      <td>1</td>\n",
       "    </tr>\n",
       "    <tr>\n",
       "      <th>3</th>\n",
       "      <td>A11</td>\n",
       "      <td>42</td>\n",
       "      <td>A32</td>\n",
       "      <td>A42</td>\n",
       "      <td>7882</td>\n",
       "      <td>A61</td>\n",
       "      <td>A74</td>\n",
       "      <td>2</td>\n",
       "      <td>0</td>\n",
       "      <td>A103</td>\n",
       "      <td>...</td>\n",
       "      <td>A122</td>\n",
       "      <td>adult</td>\n",
       "      <td>A143</td>\n",
       "      <td>A153</td>\n",
       "      <td>1</td>\n",
       "      <td>A173</td>\n",
       "      <td>2</td>\n",
       "      <td>A191</td>\n",
       "      <td>A201</td>\n",
       "      <td>1</td>\n",
       "    </tr>\n",
       "    <tr>\n",
       "      <th>4</th>\n",
       "      <td>A11</td>\n",
       "      <td>24</td>\n",
       "      <td>A33</td>\n",
       "      <td>A40</td>\n",
       "      <td>4870</td>\n",
       "      <td>A61</td>\n",
       "      <td>A73</td>\n",
       "      <td>3</td>\n",
       "      <td>0</td>\n",
       "      <td>A101</td>\n",
       "      <td>...</td>\n",
       "      <td>A124</td>\n",
       "      <td>adult</td>\n",
       "      <td>A143</td>\n",
       "      <td>A153</td>\n",
       "      <td>2</td>\n",
       "      <td>A173</td>\n",
       "      <td>2</td>\n",
       "      <td>A191</td>\n",
       "      <td>A201</td>\n",
       "      <td>0</td>\n",
       "    </tr>\n",
       "  </tbody>\n",
       "</table>\n",
       "<p>5 rows × 21 columns</p>\n",
       "</div>"
      ],
      "text/plain": [
       "  status  month credit_history purpose  credit_amount savings employment  \\\n",
       "0    A11      6            A34     A43           1169     A65        A75   \n",
       "1    A12     48            A32     A43           5951     A61        A73   \n",
       "2    A14     12            A34     A46           2096     A61        A74   \n",
       "3    A11     42            A32     A42           7882     A61        A74   \n",
       "4    A11     24            A33     A40           4870     A61        A73   \n",
       "\n",
       "   investment_as_income_percentage  sex other_debtors  ...  property    age  \\\n",
       "0                                4    0          A101  ...      A121  adult   \n",
       "1                                2    1          A101  ...      A121  youth   \n",
       "2                                2    0          A101  ...      A121  adult   \n",
       "3                                2    0          A103  ...      A122  adult   \n",
       "4                                3    0          A101  ...      A124  adult   \n",
       "\n",
       "  installment_plans housing number_of_credits  skill_level people_liable_for  \\\n",
       "0              A143    A152                 2         A173                 1   \n",
       "1              A143    A152                 1         A173                 1   \n",
       "2              A143    A152                 1         A172                 2   \n",
       "3              A143    A153                 1         A173                 2   \n",
       "4              A143    A153                 2         A173                 2   \n",
       "\n",
       "   telephone foreign_worker credit  \n",
       "0       A192           A201      1  \n",
       "1       A191           A201      0  \n",
       "2       A191           A201      1  \n",
       "3       A191           A201      1  \n",
       "4       A191           A201      0  \n",
       "\n",
       "[5 rows x 21 columns]"
      ]
     },
     "execution_count": 3,
     "metadata": {},
     "output_type": "execute_result"
    }
   ],
   "source": [
    "df.head()"
   ]
  },
  {
   "cell_type": "code",
   "execution_count": 4,
   "metadata": {},
   "outputs": [
    {
     "data": {
      "text/plain": [
       "(1000, 21)"
      ]
     },
     "execution_count": 4,
     "metadata": {},
     "output_type": "execute_result"
    }
   ],
   "source": [
    "df.shape"
   ]
  },
  {
   "cell_type": "markdown",
   "metadata": {},
   "source": [
    "# Exercises"
   ]
  },
  {
   "cell_type": "markdown",
   "metadata": {},
   "source": [
    "## Task 1: Score distributions"
   ]
  },
  {
   "cell_type": "markdown",
   "metadata": {},
   "source": [
    "### Task 1.a : visualize the overall score distribution"
   ]
  },
  {
   "cell_type": "code",
   "execution_count": 5,
   "metadata": {},
   "outputs": [],
   "source": [
    "# solution task 1.a\n"
   ]
  },
  {
   "cell_type": "markdown",
   "metadata": {},
   "source": [
    "### Task 1.b : visualize the score distribution for men"
   ]
  },
  {
   "cell_type": "code",
   "execution_count": null,
   "metadata": {},
   "outputs": [],
   "source": [
    "# solution task 1.b\n"
   ]
  },
  {
   "cell_type": "markdown",
   "metadata": {},
   "source": [
    "### Task 1.c : visualize the score distribution for women"
   ]
  },
  {
   "cell_type": "code",
   "execution_count": 6,
   "metadata": {},
   "outputs": [],
   "source": [
    "# solution task 1.c\n"
   ]
  },
  {
   "cell_type": "markdown",
   "metadata": {},
   "source": [
    "## Task 2: Optimal unconstrained decision rule"
   ]
  },
  {
   "cell_type": "markdown",
   "metadata": {},
   "source": [
    "### Task 2.a : compute the optimal decision rule based on the following utility values (in 1K CHF)\n",
    "\n",
    "- u_00: decision maker's utility for granting a loan to an individual who repays\n",
    "- u_01: decision maker's utility for granting a loan to an individual who defaults\n",
    "- u_10: decision maker's utility for not granting a loan to an individual who would repay\n",
    "- u_11: decision maker's utility for not granting a loan to an individual who would default"
   ]
  },
  {
   "cell_type": "code",
   "execution_count": 7,
   "metadata": {},
   "outputs": [
    {
     "name": "stdout",
     "output_type": "stream",
     "text": [
      "From the persepective of the bank, it is optimal to grant a loan to all individuals with a repayment probability p > ?\n"
     ]
    }
   ],
   "source": [
    "# solution task 2.a\n",
    "\n",
    "u_00 = 0\n",
    "u_01 = 0\n",
    "u_10 = 0\n",
    "u_11 = 0\n",
    "\n",
    "print(\"From the persepective of the bank, it is optimal to grant a loan to all individuals with a repayment probability p > ?\")"
   ]
  },
  {
   "cell_type": "markdown",
   "metadata": {},
   "source": [
    "### Task 2.b : add a visualization of the optimal decision rule to the score distribution plot of task 1.a"
   ]
  },
  {
   "cell_type": "code",
   "execution_count": 8,
   "metadata": {},
   "outputs": [],
   "source": [
    "# solution task 2.b\n"
   ]
  },
  {
   "cell_type": "markdown",
   "metadata": {},
   "source": [
    "## Task 3: (Group-specific) Outcomes"
   ]
  },
  {
   "cell_type": "markdown",
   "metadata": {},
   "source": [
    "### Task 3.a : compute the confusion matrix that results from applying this optimal decision rule to the entire population"
   ]
  },
  {
   "cell_type": "code",
   "execution_count": 9,
   "metadata": {},
   "outputs": [],
   "source": [
    "# solution task 3.a\n"
   ]
  },
  {
   "cell_type": "markdown",
   "metadata": {},
   "source": [
    "### Task 3.b : compute the confusion matrix that results from applying this optimal decision rule to men"
   ]
  },
  {
   "cell_type": "code",
   "execution_count": 10,
   "metadata": {},
   "outputs": [],
   "source": [
    "# solution task 3.b\n"
   ]
  },
  {
   "cell_type": "markdown",
   "metadata": {},
   "source": [
    "### Task 3.c : compute the confusion matrix that results from applying this optimal decision rule to women"
   ]
  },
  {
   "cell_type": "code",
   "execution_count": 11,
   "metadata": {},
   "outputs": [],
   "source": [
    "# solution task 3.c\n"
   ]
  },
  {
   "cell_type": "markdown",
   "metadata": {},
   "source": [
    "## Task 4: Qualitative questions"
   ]
  },
  {
   "cell_type": "markdown",
   "metadata": {},
   "source": [
    "Now answer the following questions:\n",
    "- Do the score distributions look as expected?\n",
    "- Based on this brief analysis of the result of the prediction model: do you think that there might be any fairness issue(s) with regard to gender?"
   ]
  },
  {
   "cell_type": "markdown",
   "metadata": {},
   "source": [
    "## Bonus task: further data exploration\n",
    "\n",
    "### Bonus task: explore the data further and analyze whether the prediction model works better for men then for women or vice versa."
   ]
  },
  {
   "cell_type": "code",
   "execution_count": 12,
   "metadata": {},
   "outputs": [],
   "source": [
    "# Bonus task solution"
   ]
  }
 ],
 "metadata": {
  "interpreter": {
   "hash": "09757acd3418a61cf01d9b043f9f30a2c58813fb43f72b2df8984f3a70441fa6"
  },
  "kernelspec": {
   "display_name": "Python 3",
   "language": "python",
   "name": "python3"
  },
  "language_info": {
   "codemirror_mode": {
    "name": "ipython",
    "version": 3
   },
   "file_extension": ".py",
   "mimetype": "text/x-python",
   "name": "python",
   "nbconvert_exporter": "python",
   "pygments_lexer": "ipython3",
   "version": "3.8.3"
  }
 },
 "nbformat": 4,
 "nbformat_minor": 2
}
