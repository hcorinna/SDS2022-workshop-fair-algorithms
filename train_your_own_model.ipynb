{
 "cells": [
  {
   "cell_type": "markdown",
   "metadata": {},
   "source": [
    "# Getting started with Google Colab\n",
    "\n",
    "If you are using Google Colab, run the following two code cells."
   ]
  },
  {
   "cell_type": "code",
   "execution_count": null,
   "metadata": {},
   "outputs": [],
   "source": [
    "from google.colab import drive\n",
    "drive.mount(\"/content/gdrive\")"
   ]
  },
  {
   "cell_type": "code",
   "execution_count": null,
   "metadata": {},
   "outputs": [],
   "source": [
    "%cd gdrive/MyDrive/AMLD-EPFL2022-workshop-fair-algorithms"
   ]
  },
  {
   "cell_type": "markdown",
   "metadata": {},
   "source": [
    "# Optional exercise: train your own model\n",
    "\n",
    "- Change the train() function in the python module train_clf.py\n",
    "- import the new function\n",
    "- train the classifier by calling the function train(<dataset_name>, my_own_model=True)\n",
    "    - this saves the predictions to the folder output/<dataset_name>_my_own_model\n",
    "- upload the to the FairnessLab\n",
    "    - go to https://joebaumann.github.io/AMLD-EPFL2022-workshop-FairnessLab\n",
    "    - navigate to the section model evaluation\n",
    "    - at the top of the page, choose the dataset for which you trained a model\n",
    "    - then, upload your predictions by choosing the newly created file called \"scores.json\""
   ]
  },
  {
   "cell_type": "code",
   "execution_count": 1,
   "metadata": {},
   "outputs": [],
   "source": [
    "from train_clf import *"
   ]
  },
  {
   "cell_type": "code",
   "execution_count": 2,
   "metadata": {},
   "outputs": [
    {
     "name": "stdout",
     "output_type": "stream",
     "text": [
      "The model has been trained.\n",
      "Accuracy: 0.8022542681916128\n",
      "Accuracy: 0.8022542681916128\n",
      "Scores and y are saved in json format to output/algorithmic_hiring_my_own_model\n"
     ]
    }
   ],
   "source": [
    "# train the classifier\n",
    "df, scores, y = train(algorithmic_hiring, my_own_model=True)"
   ]
  },
  {
   "cell_type": "code",
   "execution_count": null,
   "metadata": {},
   "outputs": [],
   "source": []
  }
 ],
 "metadata": {
  "interpreter": {
   "hash": "09757acd3418a61cf01d9b043f9f30a2c58813fb43f72b2df8984f3a70441fa6"
  },
  "kernelspec": {
   "display_name": "Python 3.8.12 ('venv-AMLD-workshop-2022')",
   "language": "python",
   "name": "python3"
  },
  "language_info": {
   "codemirror_mode": {
    "name": "ipython",
    "version": 3
   },
   "file_extension": ".py",
   "mimetype": "text/x-python",
   "name": "python",
   "nbconvert_exporter": "python",
   "pygments_lexer": "ipython3",
   "version": "3.8.12"
  },
  "orig_nbformat": 4
 },
 "nbformat": 4,
 "nbformat_minor": 2
}
